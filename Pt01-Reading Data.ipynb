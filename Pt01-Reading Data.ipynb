{
 "cells": [
  {
   "cell_type": "code",
   "execution_count": 34,
   "metadata": {
    "collapsed": false
   },
   "outputs": [
    {
     "name": "stdout",
     "output_type": "stream",
     "text": [
      "[[ 88.81367     2.07774    89.00051   ...,   0.5159692   0.7739539\n",
      "    1.031938 ]\n",
      " [ 77.18535     2.274467   77.34305   ...,   4.822376    7.233564\n",
      "    9.644752 ]\n",
      " [ 91.70094     1.639331   92.12057   ...,   0.5158894   0.7738341\n",
      "    1.031779 ]\n",
      " ..., \n",
      " [ 90.62921     2.31012    90.55712   ...,   0.5180005   0.7770008\n",
      "    1.036001 ]\n",
      " [ 83.66883     1.706524   83.55207   ...,   2.675371    4.013056\n",
      "    5.350741 ]\n",
      " [ 91.05768     2.41444    90.82329   ...,   1.515305    2.272957\n",
      "    3.030609 ]]\n",
      "\n",
      "[[[ 88.81367     2.07774    89.00051   ...,   0.5159692   0.7739539\n",
      "     1.031938 ]\n",
      "  [ 77.18535     2.274467   77.34305   ...,   4.822376    7.233564\n",
      "     9.644752 ]\n",
      "  [ 91.70094     1.639331   92.12057   ...,   0.5158894   0.7738341\n",
      "     1.031779 ]\n",
      "  [ 91.31534     3.085426   91.79221   ...,   2.516293    3.774439\n",
      "     5.032586 ]\n",
      "  [ 89.53819     2.327437   89.253     ...,   0.5181079   0.7771618\n",
      "     1.036216 ]]\n",
      "\n",
      " [[ 86.47728     2.330642   86.7679    ...,   2.647884    3.971827\n",
      "     5.295769 ]\n",
      "  [ 87.47668     2.524096   87.34502   ...,   3.851246    5.776868\n",
      "     7.702491 ]\n",
      "  [ 90.62921     2.31012    90.55712   ...,   0.5180005   0.7770008\n",
      "     1.036001 ]\n",
      "  [ 83.66883     1.706524   83.55207   ...,   2.675371    4.013056\n",
      "     5.350741 ]\n",
      "  [ 91.05768     2.41444    90.82329   ...,   1.515305    2.272957\n",
      "     3.030609 ]]]\n",
      "\n",
      "[ 2.  2.  2.  2.  2.  1.  1.  1.  1.  1.]\n",
      "\n",
      "[2.0, 1.0]\n",
      "\n"
     ]
    }
   ],
   "source": [
    "%run 'Common.ipynb'\n",
    "fname = os.path.join ('data','2015-05-02','ArterialStiffnessRatData-Summary-Split.tsv')\n",
    "colrange = range (2,1000)\n",
    "#cardio_traits = np.loadtxt(fname, delimiter = \"\\t\", skiprows = 1, usecols = colrange)\n",
    "cardio_data = np.loadtxt(fname, delimiter = \"\\t\", skiprows = 1)\n",
    "contig_traits = cardio_data[:,2:]\n",
    "contig_class_vals = cardio_data[:,1]\n",
    "class_traits, class_vals = get_class_mat_list (contig_traits, contig_class_vals)\n",
    "print (contig_traits)\n",
    "print\n",
    "print (class_traits)\n",
    "print\n",
    "print (contig_class_vals)\n",
    "print\n",
    "print (class_vals)\n",
    "print "
   ]
  },
  {
   "cell_type": "code",
   "execution_count": 52,
   "metadata": {
    "collapsed": false
   },
   "outputs": [
    {
     "name": "stdout",
     "output_type": "stream",
     "text": [
      "Train class sizes : [4, 4]\n",
      "Features          : 60\n",
      "Iterations        : 25\n",
      "Iteration 0; Predictions: [ 2.  1.]; cumulative accuracies: [1.0, 1.0]\n",
      "Iteration 1; Predictions: [ 2.  1.]; cumulative accuracies: [1.0, 1.0]\n",
      "Iteration 2; Predictions: [ 2.  1.]; cumulative accuracies: [1.0, 1.0]\n",
      "Iteration 3; Predictions: [ 2.  1.]; cumulative accuracies: [1.0, 1.0]\n",
      "Iteration 4; Predictions: [ 2.  1.]; cumulative accuracies: [1.0, 1.0]\n",
      "Iteration 5; Predictions: [ 2.  1.]; cumulative accuracies: [1.0, 1.0]\n",
      "Iteration 6; Predictions: [ 2.  1.]; cumulative accuracies: [1.0, 1.0]\n",
      "Iteration 7; Predictions: [ 2.  1.]; cumulative accuracies: [1.0, 1.0]\n",
      "Iteration 8; Predictions: [ 2.  1.]; cumulative accuracies: [1.0, 1.0]\n",
      "Iteration 9; Predictions: [ 2.  1.]; cumulative accuracies: [1.0, 1.0]\n",
      "Iteration 10; Predictions: [ 2.  1.]; cumulative accuracies: [1.0, 1.0]\n",
      "Iteration 11; Predictions: [ 2.  1.]; cumulative accuracies: [1.0, 1.0]\n",
      "Iteration 12; Predictions: [ 2.  1.]; cumulative accuracies: [1.0, 1.0]\n",
      "Iteration 13; Predictions: [ 2.  1.]; cumulative accuracies: [1.0, 1.0]\n",
      "Iteration 14; Predictions: [ 2.  1.]; cumulative accuracies: [1.0, 1.0]\n",
      "Iteration 15; Predictions: [ 2.  1.]; cumulative accuracies: [1.0, 1.0]\n",
      "Iteration 16; Predictions: [ 2.  1.]; cumulative accuracies: [1.0, 1.0]\n",
      "Iteration 17; Predictions: [ 2.  1.]; cumulative accuracies: [1.0, 1.0]\n",
      "Iteration 18; Predictions: [ 2.  1.]; cumulative accuracies: [1.0, 1.0]\n",
      "Iteration 19; Predictions: [ 2.  1.]; cumulative accuracies: [1.0, 1.0]\n",
      "Iteration 20; Predictions: [ 2.  1.]; cumulative accuracies: [1.0, 1.0]\n",
      "Iteration 21; Predictions: [ 2.  1.]; cumulative accuracies: [1.0, 1.0]\n",
      "Iteration 22; Predictions: [ 2.  1.]; cumulative accuracies: [1.0, 1.0]\n",
      "Iteration 23; Predictions: [ 2.  1.]; cumulative accuracies: [1.0, 1.0]\n",
      "Iteration 24; Predictions: [ 2.  1.]; cumulative accuracies: [1.0, 1.0]\n"
     ]
    }
   ],
   "source": [
    "nfeatures = 60\n",
    "niter = np.product ( [m.shape[0] for m in class_traits] )\n",
    "n_correct = np.asarray( [0]*2)\n",
    "(train,test) = round_robin_iteration (0,class_traits)\n",
    "print ('Train class sizes : {}'.format([x.shape[0] for x in train]))\n",
    "print ('Features          : {}'.format(nfeatures))\n",
    "print ('Iterations        : {}'.format(niter))\n",
    "for iter_idx in range ( niter ):\n",
    "    # Split\n",
    "    (train,test) = round_robin_iteration (iter_idx,class_traits)\n",
    "    (contig_train_mat, contig_train_vals) = list_to_contig_mat (train, class_vals)\n",
    "    (contig_test_mat, contig_test_vals) = list_to_contig_mat (test, class_vals)\n",
    "\n",
    "    # Normalize\n",
    "    (norm_train, norm_test) = normalize (contig_train_mat, contig_test_mat)\n",
    "    \n",
    "    # Reduce\n",
    "    feature_weights = Pearson(norm_train, contig_train_vals)\n",
    "    (sorted_train, sorted_test) = weigh_sort (norm_train, norm_test, feature_weights)\n",
    "\n",
    "    # Classify\n",
    "#    preds,pred_vals = WND5(sorted_train[:,:nfeatures], sorted_test[:,:nfeatures], contig_train_vals)\n",
    "\n",
    "    preds = rand_forest_clf (sorted_train[:,:nfeatures], sorted_test[:,:nfeatures], contig_train_vals, iter_idx)\n",
    "    for pred_idx in range (len(preds)):\n",
    "        if (preds[pred_idx] == contig_test_vals[pred_idx]):\n",
    "            n_correct[pred_idx] += 1\n",
    "    cumul_acc = [(float(x) / (float(iter_idx)+1.0)) for x in n_correct]\n",
    "    print ('Iteration {}; Predictions: {}; cumulative accuracies: {}'.format(iter_idx, preds, cumul_acc))\n"
   ]
  },
  {
   "cell_type": "code",
   "execution_count": null,
   "metadata": {
    "collapsed": false
   },
   "outputs": [],
   "source": []
  }
 ],
 "metadata": {
  "kernelspec": {
   "display_name": "Python 2",
   "language": "python",
   "name": "python2"
  },
  "language_info": {
   "codemirror_mode": {
    "name": "ipython",
    "version": 2
   },
   "file_extension": ".py",
   "mimetype": "text/x-python",
   "name": "python",
   "nbconvert_exporter": "python",
   "pygments_lexer": "ipython2",
   "version": "2.7.9"
  }
 },
 "nbformat": 4,
 "nbformat_minor": 0
}
