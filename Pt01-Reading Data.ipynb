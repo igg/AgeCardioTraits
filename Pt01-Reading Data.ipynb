{
 "cells": [
  {
   "cell_type": "code",
   "execution_count": 66,
   "metadata": {
    "collapsed": false
   },
   "outputs": [
    {
     "name": "stdout",
     "output_type": "stream",
     "text": [
      "[[ 88.81367     2.07774    89.00051   ...,   0.5159692   0.7739539\n",
      "    1.031938 ]\n",
      " [ 77.18535     2.274467   77.34305   ...,   4.822376    7.233564\n",
      "    9.644752 ]\n",
      " [ 91.70094     1.639331   92.12057   ...,   0.5158894   0.7738341\n",
      "    1.031779 ]\n",
      " ..., \n",
      " [ 90.62921     2.31012    90.55712   ...,   0.5180005   0.7770008\n",
      "    1.036001 ]\n",
      " [ 83.66883     1.706524   83.55207   ...,   2.675371    4.013056\n",
      "    5.350741 ]\n",
      " [ 91.05768     2.41444    90.82329   ...,   1.515305    2.272957\n",
      "    3.030609 ]]\n",
      "\n",
      "[[[ 88.81367     2.07774    89.00051   ...,   0.5159692   0.7739539\n",
      "     1.031938 ]\n",
      "  [ 77.18535     2.274467   77.34305   ...,   4.822376    7.233564\n",
      "     9.644752 ]\n",
      "  [ 91.70094     1.639331   92.12057   ...,   0.5158894   0.7738341\n",
      "     1.031779 ]\n",
      "  [ 91.31534     3.085426   91.79221   ...,   2.516293    3.774439\n",
      "     5.032586 ]\n",
      "  [ 89.53819     2.327437   89.253     ...,   0.5181079   0.7771618\n",
      "     1.036216 ]]\n",
      "\n",
      " [[ 86.47728     2.330642   86.7679    ...,   2.647884    3.971827\n",
      "     5.295769 ]\n",
      "  [ 87.47668     2.524096   87.34502   ...,   3.851246    5.776868\n",
      "     7.702491 ]\n",
      "  [ 90.62921     2.31012    90.55712   ...,   0.5180005   0.7770008\n",
      "     1.036001 ]\n",
      "  [ 83.66883     1.706524   83.55207   ...,   2.675371    4.013056\n",
      "     5.350741 ]\n",
      "  [ 91.05768     2.41444    90.82329   ...,   1.515305    2.272957\n",
      "     3.030609 ]]]\n",
      "\n",
      "[ 2.  2.  2.  2.  2.  1.  1.  1.  1.  1.]\n",
      "\n",
      "[2.0, 1.0]\n",
      "\n",
      "['DiastolicPressure_One_Mean_Base', 'DiastolicPressure_One_STDEV_Base', 'DiastolicPressure_One_Median_Base', 'DiastolicPressure_One_Mode_Base', 'DiastolicPressure_One_IQ_Base', 'SystolicPressure_One_Mean_Base', 'SystolicPressure_One_STDEV_Base', 'SystolicPressure_One_Median_Base', 'SystolicPressure_One_Mode_Base', 'SystolicPressure_One_IQ_Base', 'IncidentPressure_One_Mean_Base', 'IncidentPressure_One_STDEV_Base', 'IncidentPressure_One_Median_Base', 'IncidentPressure_One_Mode_Base', 'IncidentPressure_One_IQ_Base', 'EndSystolicPressure_One_Mean_Base', 'EndSystolicPressure_One_STDEV_Base', 'EndSystolicPressure_One_Median_Base', 'EndSystolicPressure_One_Mode_Base', 'EndSystolicPressure_One_IQ_Base', 'PulsePressure_One_Mean_Base', 'PulsePressure_One_STDEV_Base', 'PulsePressure_One_Median_Base', 'PulsePressure_One_Mode_Base', 'PulsePressure_One_IQ_Base', 'AugmentationIndex_One_Mean_Base', 'AugmentationIndex_One_STDEV_Base', 'AugmentationIndex_One_Median_Base', 'AugmentationIndex_One_Mode_Base', 'AugmentationIndex_One_IQ_Base', 'MeanPressure_One_Mean_Base', 'MeanPressure_One_STDEV_Base', 'MeanPressure_One_Median_Base', 'MeanPressure_One_Mode_Base', 'MeanPressure_One_IQ_Base', 'FormFactor_One_Mean_Base', 'FormFactor_One_STDEV_Base', 'FormFactor_One_Median_Base', 'FormFactor_One_Mode_Base', 'FormFactor_One_IQ_Base', 'HeartRate_One_Mean_Base', 'HeartRate_One_STDEV_Base', 'HeartRate_One_Median_Base', 'HeartRate_One_Mode_Base', 'HeartRate_One_IQ_Base', 'SystolicPercent_One_Mean_Base', 'SystolicPercent_One_STDEV_Base', 'SystolicPercent_One_Median_Base', 'SystolicPercent_One_Mode_Base', 'SystolicPercent_One_IQ_Base', 'DiastolicPercent_One_Mean_Base', 'DiastolicPercent_One_STDEV_Base', 'DiastolicPercent_One_Median_Base', 'DiastolicPercent_One_Mode_Base', 'DiastolicPercent_One_IQ_Base', 'TimeToPeakSystole_One_Mean_Base', 'TimeToPeakSystole_One_STDEV_Base', 'TimeToPeakSystole_One_Median_Base', 'TimeToPeakSystole_One_Mode_Base', 'TimeToPeakSystole_One_IQ_Base', 'ReflectedWaveTransitTime_One_Mean_Base', 'ReflectedWaveTransitTime_One_STDEV_Base', 'ReflectedWaveTransitTime_One_Median_Base', 'ReflectedWaveTransitTime_One_Mode_Base', 'ReflectedWaveTransitTime_One_IQ_Base', 'PulseWaveVelocityOverMeanPressure_One_Mean_Base', 'PulseWaveVelocityOverMeanPressure_One_STDEV_Base', 'PulseWaveVelocityOverMeanPressure_One_Median_Base', 'PulseWaveVelocityOverMeanPressure_One_Mode_Base', 'PulseWaveVelocityOverMeanPressure_One_IQ_Base', 'PulseWaveVelocity_Mean_Base', 'PulseWaveVelocity_STDEV_Base', 'PulseWaveVelocity_Median_Base', 'PulseWaveVelocity_Mode_Base', 'PulseWaveVelocity_IQ_Base', 'DiastolicPressure_Two_Mean_Base', 'DiastolicPressure_Two_STDEV_Base', 'DiastolicPressure_Two_Median_Base', 'DiastolicPressure_Two_Mode_Base', 'DiastolicPressure_Two_IQ_Base', 'SystolicPressure_Two_Mean_Base', 'SystolicPressure_Two_STDEV_Base', 'SystolicPressure_Two_Median_Base', 'SystolicPressure_Two_Mode_Base', 'SystolicPressure_Two_IQ_Base', 'IncidentPressure_Two_Mean_Base', 'IncidentPressure_Two_STDEV_Base', 'IncidentPressure_Two_Median_Base', 'IncidentPressure_Two_Mode_Base', 'IncidentPressure_Two_IQ_Base', 'EndSystolicPressure_Two_Mean_Base', 'EndSystolicPressure_Two_STDEV_Base', 'EndSystolicPressure_Two_Median_Base', 'EndSystolicPressure_Two_Mode_Base', 'EndSystolicPressure_Two_IQ_Base', 'PulsePressure_Two_Mean_Base', 'PulsePressure_Two_STDEV_Base', 'PulsePressure_Two_Median_Base', 'PulsePressure_Two_Mode_Base', 'PulsePressure_Two_IQ_Base', 'AugmentationIndex_Two_Mean_Base', 'AugmentationIndex_Two_STDEV_Base', 'AugmentationIndex_Two_Median_Base', 'AugmentationIndex_Two_Mode_Base', 'AugmentationIndex_Two_IQ_Base', 'MeanPressure_Two_Mean_Base', 'MeanPressure_Two_STDEV_Base', 'MeanPressure_Two_Median_Base', 'MeanPressure_Two_Mode_Base', 'MeanPressure_Two_IQ_Base', 'FormFactor_Two_Mean_Base', 'FormFactor_Two_STDEV_Base', 'FormFactor_Two_Median_Base', 'FormFactor_Two_Mode_Base', 'FormFactor_Two_IQ_Base', 'HeartRate_Two_Mean_Base', 'HeartRate_Two_STDEV_Base', 'HeartRate_Two_Median_Base', 'HeartRate_Two_Mode_Base', 'HeartRate_Two_IQ_Base', 'SystolicPercent_Two_Mean_Base', 'SystolicPercent_Two_STDEV_Base', 'SystolicPercent_Two_Median_Base', 'SystolicPercent_Two_Mode_Base', 'SystolicPercent_Two_IQ_Base', 'DiastolicPercent_Two_Mean_Base', 'DiastolicPercent_Two_STDEV_Base', 'DiastolicPercent_Two_Median_Base', 'DiastolicPercent_Two_Mode_Base', 'DiastolicPercent_Two_IQ_Base', 'TimeToPeakSystole_Two_Mean_Base', 'TimeToPeakSystole_Two_STDEV_Base', 'TimeToPeakSystole_Two_Median_Base', 'TimeToPeakSystole_Two_Mode_Base', 'TimeToPeakSystole_Two_IQ_Base', 'ReflectedWaveTransitTime_Two_Mean_Base', 'ReflectedWaveTransitTime_Two_STDEV_Base', 'ReflectedWaveTransitTime_Two_Median_Base', 'ReflectedWaveTransitTime_Two_Mode_Base', 'ReflectedWaveTransitTime_Two_IQ_Base', 'PulseWaveVelocityOverMeanPressure_Two_Mean_Base', 'PulseWaveVelocityOverMeanPressure_Two_STDEV_Base', 'PulseWaveVelocityOverMeanPressure_Two_Median_Base', 'PulseWaveVelocityOverMeanPressure_Two_Mode_Base', 'PulseWaveVelocityOverMeanPressure_Two_IQ_Base', 'DiastolicPressure_One_Beta_Up', 'DiastolicPressure_One_Intercept_Up', 'DiastolicPressure_One_Linear_R2_Up', 'DiastolicPressure_One_a_Up', 'DiastolicPressure_One_b_Up', 'DiastolicPressure_One_Exp_R2_Up', 'SystolicPressure_One_Beta_Up', 'SystolicPressure_One_Intercept_Up', 'SystolicPressure_One_Linear_R2_Up', 'SystolicPressure_One_a_Up', 'SystolicPressure_One_b_Up', 'SystolicPressure_One_Exp_R2_Up', 'IncidentPressure_One_Beta_Up', 'IncidentPressure_One_Intercept_Up', 'IncidentPressure_One_Linear_R2_Up', 'IncidentPressure_One_a_Up', 'IncidentPressure_One_b_Up', 'IncidentPressure_One_Exp_R2_Up', 'EndSystolicPressure_One_Beta_Up', 'EndSystolicPressure_One_Intercept_Up', 'EndSystolicPressure_One_Linear_R2_Up', 'EndSystolicPressure_One_a_Up', 'EndSystolicPressure_One_b_Up', 'EndSystolicPressure_One_Exp_R2_Up', 'PulsePressure_One_Beta_Up', 'PulsePressure_One_Intercept_Up', 'PulsePressure_One_Linear_R2_Up', 'PulsePressure_One_a_Up', 'PulsePressure_One_b_Up', 'PulsePressure_One_Exp_R2_Up', 'AugmentationIndex_One_Beta_Up', 'AugmentationIndex_One_Intercept_Up', 'AugmentationIndex_One_Linear_R2_Up', 'AugmentationIndex_One_a_Up', 'AugmentationIndex_One_b_Up', 'AugmentationIndex_One_Exp_R2_Up', 'MeanPressure_One_Beta_Up', 'MeanPressure_One_Intercept_Up', 'MeanPressure_One_Linear_R2_Up', 'MeanPressure_One_a_Up', 'MeanPressure_One_b_Up', 'MeanPressure_One_Exp_R2_Up', 'FormFactor_One_Beta_Up', 'FormFactor_One_Intercept_Up', 'FormFactor_One_Linear_R2_Up', 'FormFactor_One_a_Up', 'FormFactor_One_b_Up', 'FormFactor_One_Exp_R2_Up', 'HeartRate_One_Beta_Up', 'HeartRate_One_Intercept_Up', 'HeartRate_One_Linear_R2_Up', 'HeartRate_One_a_Up', 'HeartRate_One_b_Up', 'HeartRate_One_Exp_R2_Up', 'SystolicPercent_One_Beta_Up', 'SystolicPercent_One_Intercept_Up', 'SystolicPercent_One_Linear_R2_Up', 'SystolicPercent_One_a_Up', 'SystolicPercent_One_b_Up', 'SystolicPercent_One_Exp_R2_Up', 'DiastolicPercent_One_Beta_Up', 'DiastolicPercent_One_Intercept_Up', 'DiastolicPercent_One_Linear_R2_Up', 'DiastolicPercent_One_a_Up', 'DiastolicPercent_One_b_Up', 'DiastolicPercent_One_Exp_R2_Up', 'TimeToPeakSystole_One_Beta_Up', 'TimeToPeakSystole_One_Intercept_Up', 'TimeToPeakSystole_One_Linear_R2_Up', 'TimeToPeakSystole_One_a_Up', 'TimeToPeakSystole_One_b_Up', 'TimeToPeakSystole_One_Exp_R2_Up', 'ReflectedWaveTransitTime_One_Beta_Up', 'ReflectedWaveTransitTime_One_Intercept_Up', 'ReflectedWaveTransitTime_One_Linear_R2_Up', 'ReflectedWaveTransitTime_One_a_Up', 'ReflectedWaveTransitTime_One_b_Up', 'ReflectedWaveTransitTime_One_Exp_R2_Up', 'PulseWaveVelocityOverMeanPressure_One_Beta_Up', 'PulseWaveVelocityOverMeanPressure_One_Intercept_Up', 'PulseWaveVelocityOverMeanPressure_One_Linear_R2_Up', 'PulseWaveVelocityOverMeanPressure_One_a_Up', 'PulseWaveVelocityOverMeanPressure_One_b_Up', 'PulseWaveVelocityOverMeanPressure_One_Exp_R2_Up', 'PulseWaveVelocity_Beta_Up', 'PulseWaveVelocity_Intercept_Up', 'PulseWaveVelocity_Linear_R2_Up', 'PulseWaveVelocity_a_Up', 'PulseWaveVelocity_b_Up', 'PulseWaveVelocity_Exp_R2_Up', 'DiastolicPressure_Two_Beta_Up', 'DiastolicPressure_Two_Intercept_Up', 'DiastolicPressure_Two_Linear_R2_Up', 'DiastolicPressure_Two_a_Up', 'DiastolicPressure_Two_b_Up', 'DiastolicPressure_Two_Exp_R2_Up', 'SystolicPressure_Two_Beta_Up', 'SystolicPressure_Two_Intercept_Up', 'SystolicPressure_Two_Linear_R2_Up', 'SystolicPressure_Two_a_Up', 'SystolicPressure_Two_b_Up', 'SystolicPressure_Two_Exp_R2_Up', 'IncidentPressure_Two_Beta_Up', 'IncidentPressure_Two_Intercept_Up', 'IncidentPressure_Two_Linear_R2_Up', 'IncidentPressure_Two_a_Up', 'IncidentPressure_Two_b_Up', 'IncidentPressure_Two_Exp_R2_Up', 'EndSystolicPressure_Two_Beta_Up', 'EndSystolicPressure_Two_Intercept_Up', 'EndSystolicPressure_Two_Linear_R2_Up', 'EndSystolicPressure_Two_a_Up', 'EndSystolicPressure_Two_b_Up', 'EndSystolicPressure_Two_Exp_R2_Up', 'PulsePressure_Two_Beta_Up', 'PulsePressure_Two_Intercept_Up', 'PulsePressure_Two_Linear_R2_Up', 'PulsePressure_Two_a_Up', 'PulsePressure_Two_b_Up', 'PulsePressure_Two_Exp_R2_Up', 'AugmentationIndex_Two_Beta_Up', 'AugmentationIndex_Two_Intercept_Up', 'AugmentationIndex_Two_Linear_R2_Up', 'AugmentationIndex_Two_a_Up', 'AugmentationIndex_Two_b_Up', 'AugmentationIndex_Two_Exp_R2_Up', 'MeanPressure_Two_Beta_Up', 'MeanPressure_Two_Intercept_Up', 'MeanPressure_Two_Linear_R2_Up', 'MeanPressure_Two_a_Up', 'MeanPressure_Two_b_Up', 'MeanPressure_Two_Exp_R2_Up', 'FormFactor_Two_Beta_Up', 'FormFactor_Two_Intercept_Up', 'FormFactor_Two_Linear_R2_Up', 'FormFactor_Two_a_Up', 'FormFactor_Two_b_Up', 'FormFactor_Two_Exp_R2_Up', 'HeartRate_Two_Beta_Up', 'HeartRate_Two_Intercept_Up', 'HeartRate_Two_Linear_R2_Up', 'HeartRate_Two_a_Up', 'HeartRate_Two_b_Up', 'HeartRate_Two_Exp_R2_Up', 'SystolicPercent_Two_Beta_Up', 'SystolicPercent_Two_Intercept_Up', 'SystolicPercent_Two_Linear_R2_Up', 'SystolicPercent_Two_a_Up', 'SystolicPercent_Two_b_Up', 'SystolicPercent_Two_Exp_R2_Up', 'DiastolicPercent_Two_Beta_Up', 'DiastolicPercent_Two_Intercept_Up', 'DiastolicPercent_Two_Linear_R2_Up', 'DiastolicPercent_Two_a_Up', 'DiastolicPercent_Two_b_Up', 'DiastolicPercent_Two_Exp_R2_Up', 'TimeToPeakSystole_Two_Beta_Up', 'TimeToPeakSystole_Two_Intercept_Up', 'TimeToPeakSystole_Two_Linear_R2_Up', 'TimeToPeakSystole_Two_a_Up', 'TimeToPeakSystole_Two_b_Up', 'TimeToPeakSystole_Two_Exp_R2_Up', 'ReflectedWaveTransitTime_Two_Beta_Up', 'ReflectedWaveTransitTime_Two_Intercept_Up', 'ReflectedWaveTransitTime_Two_Linear_R2_Up', 'ReflectedWaveTransitTime_Two_a_Up', 'ReflectedWaveTransitTime_Two_b_Up', 'ReflectedWaveTransitTime_Two_Exp_R2_Up', 'PulseWaveVelocityOverMeanPressure_Two_Beta_Up', 'PulseWaveVelocityOverMeanPressure_Two_Intercept_Up', 'PulseWaveVelocityOverMeanPressure_Two_Linear_R2_Up', 'PulseWaveVelocityOverMeanPressure_Two_a_Up', 'PulseWaveVelocityOverMeanPressure_Two_b_Up', 'PulseWaveVelocityOverMeanPressure_Two_Exp_R2_Up', 'DiastolicPressure_One_Beta_Down', 'DiastolicPressure_One_Intercept_Down', 'DiastolicPressure_One_Linear_R2_Down', 'DiastolicPressure_One_a_Down', 'DiastolicPressure_One_b_Down', 'DiastolicPressure_One_Exp_R2_Down', 'SystolicPressure_One_Beta_Down', 'SystolicPressure_One_Intercept_Down', 'SystolicPressure_One_Linear_R2_Down', 'SystolicPressure_One_a_Down', 'SystolicPressure_One_b_Down', 'SystolicPressure_One_Exp_R2_Down', 'IncidentPressure_One_Beta_Down', 'IncidentPressure_One_Intercept_Down', 'IncidentPressure_One_Linear_R2_Down', 'IncidentPressure_One_a_Down', 'IncidentPressure_One_b_Down', 'IncidentPressure_One_Exp_R2_Down', 'EndSystolicPressure_One_Beta_Down', 'EndSystolicPressure_One_Intercept_Down', 'EndSystolicPressure_One_Linear_R2_Down', 'EndSystolicPressure_One_a_Down', 'EndSystolicPressure_One_b_Down', 'EndSystolicPressure_One_Exp_R2_Down', 'PulsePressure_One_Beta_Down', 'PulsePressure_One_Intercept_Down', 'PulsePressure_One_Linear_R2_Down', 'PulsePressure_One_a_Down', 'PulsePressure_One_b_Down', 'PulsePressure_One_Exp_R2_Down', 'AugmentationIndex_One_Beta_Down', 'AugmentationIndex_One_Intercept_Down', 'AugmentationIndex_One_Linear_R2_Down', 'AugmentationIndex_One_a_Down', 'AugmentationIndex_One_b_Down', 'AugmentationIndex_One_Exp_R2_Down', 'MeanPressure_One_Beta_Down', 'MeanPressure_One_Intercept_Down', 'MeanPressure_One_Linear_R2_Down', 'MeanPressure_One_a_Down', 'MeanPressure_One_b_Down', 'MeanPressure_One_Exp_R2_Down', 'FormFactor_One_Beta_Down', 'FormFactor_One_Intercept_Down', 'FormFactor_One_Linear_R2_Down', 'FormFactor_One_a_Down', 'FormFactor_One_b_Down', 'FormFactor_One_Exp_R2_Down', 'HeartRate_One_Beta_Down', 'HeartRate_One_Intercept_Down', 'HeartRate_One_Linear_R2_Down', 'HeartRate_One_a_Down', 'HeartRate_One_b_Down', 'HeartRate_One_Exp_R2_Down', 'SystolicPercent_One_Beta_Down', 'SystolicPercent_One_Intercept_Down', 'SystolicPercent_One_Linear_R2_Down', 'SystolicPercent_One_a_Down', 'SystolicPercent_One_b_Down', 'SystolicPercent_One_Exp_R2_Down', 'DiastolicPercent_One_Beta_Down', 'DiastolicPercent_One_Intercept_Down', 'DiastolicPercent_One_Linear_R2_Down', 'DiastolicPercent_One_a_Down', 'DiastolicPercent_One_b_Down', 'DiastolicPercent_One_Exp_R2_Down', 'TimeToPeakSystole_One_Beta_Down', 'TimeToPeakSystole_One_Intercept_Down', 'TimeToPeakSystole_One_Linear_R2_Down', 'TimeToPeakSystole_One_a_Down', 'TimeToPeakSystole_One_b_Down', 'TimeToPeakSystole_One_Exp_R2_Down', 'ReflectedWaveTransitTime_One_Beta_Down', 'ReflectedWaveTransitTime_One_Intercept_Down', 'ReflectedWaveTransitTime_One_Linear_R2_Down', 'ReflectedWaveTransitTime_One_a_Down', 'ReflectedWaveTransitTime_One_b_Down', 'ReflectedWaveTransitTime_One_Exp_R2_Down', 'PulseWaveVelocityOverMeanPressure_One_Beta_Down', 'PulseWaveVelocityOverMeanPressure_One_Intercept_Down', 'PulseWaveVelocityOverMeanPressure_One_Linear_R2_Down', 'PulseWaveVelocityOverMeanPressure_One_a_Down', 'PulseWaveVelocityOverMeanPressure_One_b_Down', 'PulseWaveVelocityOverMeanPressure_One_Exp_R2_Down', 'PulseWaveVelocity_Beta_Down', 'PulseWaveVelocity_Intercept_Down', 'PulseWaveVelocity_Linear_R2_Down', 'PulseWaveVelocity_a_Down', 'PulseWaveVelocity_b_Down', 'PulseWaveVelocity_Exp_R2_Down', 'DiastolicPressure_Two_Beta_Down', 'DiastolicPressure_Two_Intercept_Down', 'DiastolicPressure_Two_Linear_R2_Down', 'DiastolicPressure_Two_a_Down', 'DiastolicPressure_Two_b_Down', 'DiastolicPressure_Two_Exp_R2_Down', 'SystolicPressure_Two_Beta_Down', 'SystolicPressure_Two_Intercept_Down', 'SystolicPressure_Two_Linear_R2_Down', 'SystolicPressure_Two_a_Down', 'SystolicPressure_Two_b_Down', 'SystolicPressure_Two_Exp_R2_Down', 'IncidentPressure_Two_Beta_Down', 'IncidentPressure_Two_Intercept_Down', 'IncidentPressure_Two_Linear_R2_Down', 'IncidentPressure_Two_a_Down', 'IncidentPressure_Two_b_Down', 'IncidentPressure_Two_Exp_R2_Down', 'EndSystolicPressure_Two_Beta_Down', 'EndSystolicPressure_Two_Intercept_Down', 'EndSystolicPressure_Two_Linear_R2_Down', 'EndSystolicPressure_Two_a_Down', 'EndSystolicPressure_Two_b_Down', 'EndSystolicPressure_Two_Exp_R2_Down', 'PulsePressure_Two_Beta_Down', 'PulsePressure_Two_Intercept_Down', 'PulsePressure_Two_Linear_R2_Down', 'PulsePressure_Two_a_Down', 'PulsePressure_Two_b_Down', 'PulsePressure_Two_Exp_R2_Down', 'AugmentationIndex_Two_Beta_Down', 'AugmentationIndex_Two_Intercept_Down', 'AugmentationIndex_Two_Linear_R2_Down', 'AugmentationIndex_Two_a_Down', 'AugmentationIndex_Two_b_Down', 'AugmentationIndex_Two_Exp_R2_Down', 'MeanPressure_Two_Beta_Down', 'MeanPressure_Two_Intercept_Down', 'MeanPressure_Two_Linear_R2_Down', 'MeanPressure_Two_a_Down', 'MeanPressure_Two_b_Down', 'MeanPressure_Two_Exp_R2_Down', 'FormFactor_Two_Beta_Down', 'FormFactor_Two_Intercept_Down', 'FormFactor_Two_Linear_R2_Down', 'FormFactor_Two_a_Down', 'FormFactor_Two_b_Down', 'FormFactor_Two_Exp_R2_Down', 'HeartRate_Two_Beta_Down', 'HeartRate_Two_Intercept_Down', 'HeartRate_Two_Linear_R2_Down', 'HeartRate_Two_a_Down', 'HeartRate_Two_b_Down', 'HeartRate_Two_Exp_R2_Down', 'SystolicPercent_Two_Beta_Down', 'SystolicPercent_Two_Intercept_Down', 'SystolicPercent_Two_Linear_R2_Down', 'SystolicPercent_Two_a_Down', 'SystolicPercent_Two_b_Down', 'SystolicPercent_Two_Exp_R2_Down', 'DiastolicPercent_Two_Beta_Down', 'DiastolicPercent_Two_Intercept_Down', 'DiastolicPercent_Two_Linear_R2_Down', 'DiastolicPercent_Two_a_Down', 'DiastolicPercent_Two_b_Down', 'DiastolicPercent_Two_Exp_R2_Down', 'TimeToPeakSystole_Two_Beta_Down', 'TimeToPeakSystole_Two_Intercept_Down', 'TimeToPeakSystole_Two_Linear_R2_Down', 'TimeToPeakSystole_Two_a_Down', 'TimeToPeakSystole_Two_b_Down', 'TimeToPeakSystole_Two_Exp_R2_Down', 'ReflectedWaveTransitTime_Two_Beta_Down', 'ReflectedWaveTransitTime_Two_Intercept_Down', 'ReflectedWaveTransitTime_Two_Linear_R2_Down', 'ReflectedWaveTransitTime_Two_a_Down', 'ReflectedWaveTransitTime_Two_b_Down', 'ReflectedWaveTransitTime_Two_Exp_R2_Down', 'PulseWaveVelocityOverMeanPressure_Two_Beta_Down', 'PulseWaveVelocityOverMeanPressure_Two_Intercept_Down', 'PulseWaveVelocityOverMeanPressure_Two_Linear_R2_Down', 'PulseWaveVelocityOverMeanPressure_Two_a_Down', 'PulseWaveVelocityOverMeanPressure_Two_b_Down', 'PulseWaveVelocityOverMeanPressure_Two_Exp_R2_Down', 'Transfer_Magnitude_0_Base', 'Transfer_Magnitude_1_Base', 'Transfer_Magnitude_2_Base', 'Transfer_Magnitude_3_Base', 'Transfer_Magnitude_4_Base', 'Transfer_Magnitude_5_Base', 'Transfer_Magnitude_6_Base', 'Transfer_Magnitude_7_Base', 'Transfer_Magnitude_8_Base', 'Transfer_Magnitude_9_Base', 'Transfer_Magnitude_10_Base', 'Transfer_Phase_0_Base', 'Transfer_Phase_1_Base', 'Transfer_Phase_2_Base', 'Transfer_Phase_3_Base', 'Transfer_Phase_4_Base', 'Transfer_Phase_5_Base', 'Transfer_Phase_6_Base', 'Transfer_Phase_7_Base', 'Transfer_Phase_8_Base', 'Transfer_Phase_9_Base', 'Transfer_Phase_10_Base', 'Transfer_Frequency_0_Base', 'Transfer_Frequency_1_Base', 'Transfer_Frequency_2_Base', 'Transfer_Frequency_3_Base', 'Transfer_Frequency_4_Base', 'Transfer_Frequency_5_Base', 'Transfer_Frequency_6_Base', 'Transfer_Frequency_7_Base', 'Transfer_Frequency_8_Base', 'Transfer_Frequency_9_Base', 'Transfer_Frequency_10_Base', 'Respiratory_Magnitude_1_Base', 'Respiratory_Magnitude_2_Base', 'Respiratory_Magnitude_3_Base', 'Respiratory_Magnitude_4_Base', 'Respiratory_Phase_1_Base', 'Respiratory_Phase_2_Base', 'Respiratory_Phase_3_Base', 'Respiratory_Phase_4_Base', 'Respiratory_Frequency_1_Base', 'Respiratory_Frequency_2_Base', 'Respiratory_Frequency_3_Base', 'Respiratory_Frequency_4_Base', 'Transfer_Magnitude_0_Up', 'Transfer_Magnitude_1_Up', 'Transfer_Magnitude_2_Up', 'Transfer_Magnitude_3_Up', 'Transfer_Magnitude_4_Up', 'Transfer_Magnitude_5_Up', 'Transfer_Magnitude_6_Up', 'Transfer_Magnitude_7_Up', 'Transfer_Magnitude_8_Up', 'Transfer_Magnitude_9_Up', 'Transfer_Magnitude_10_Up', 'Transfer_Phase_0_Up', 'Transfer_Phase_1_Up', 'Transfer_Phase_2_Up', 'Transfer_Phase_3_Up', 'Transfer_Phase_4_Up', 'Transfer_Phase_5_Up', 'Transfer_Phase_6_Up', 'Transfer_Phase_7_Up', 'Transfer_Phase_8_Up', 'Transfer_Phase_9_Up', 'Transfer_Phase_10_Up', 'Transfer_Frequency_0_Up', 'Transfer_Frequency_1_Up', 'Transfer_Frequency_2_Up', 'Transfer_Frequency_3_Up', 'Transfer_Frequency_4_Up', 'Transfer_Frequency_5_Up', 'Transfer_Frequency_6_Up', 'Transfer_Frequency_7_Up', 'Transfer_Frequency_8_Up', 'Transfer_Frequency_9_Up', 'Transfer_Frequency_10_Up', 'Respiratory_Magnitude_1_Up', 'Respiratory_Magnitude_2_Up', 'Respiratory_Magnitude_3_Up', 'Respiratory_Magnitude_4_Up', 'Respiratory_Phase_1_Up', 'Respiratory_Phase_2_Up', 'Respiratory_Phase_3_Up', 'Respiratory_Phase_4_Up', 'Respiratory_Frequency_1_Up', 'Respiratory_Frequency_2_Up', 'Respiratory_Frequency_3_Up', 'Respiratory_Frequency_4_Up', 'Transfer_Magnitude_0_Peak', 'Transfer_Magnitude_1_Peak', 'Transfer_Magnitude_2_Peak', 'Transfer_Magnitude_3_Peak', 'Transfer_Magnitude_4_Peak', 'Transfer_Magnitude_5_Peak', 'Transfer_Magnitude_6_Peak', 'Transfer_Magnitude_7_Peak', 'Transfer_Magnitude_8_Peak', 'Transfer_Magnitude_9_Peak', 'Transfer_Magnitude_10_Peak', 'Transfer_Phase_0_Peak', 'Transfer_Phase_1_Peak', 'Transfer_Phase_2_Peak', 'Transfer_Phase_3_Peak', 'Transfer_Phase_4_Peak', 'Transfer_Phase_5_Peak', 'Transfer_Phase_6_Peak', 'Transfer_Phase_7_Peak', 'Transfer_Phase_8_Peak', 'Transfer_Phase_9_Peak', 'Transfer_Phase_10_Peak', 'Transfer_Frequency_0_Peak', 'Transfer_Frequency_1_Peak', 'Transfer_Frequency_2_Peak', 'Transfer_Frequency_3_Peak', 'Transfer_Frequency_4_Peak', 'Transfer_Frequency_5_Peak', 'Transfer_Frequency_6_Peak', 'Transfer_Frequency_7_Peak', 'Transfer_Frequency_8_Peak', 'Transfer_Frequency_9_Peak', 'Transfer_Frequency_10_Peak', 'Respiratory_Magnitude_1_Peak', 'Respiratory_Magnitude_2_Peak', 'Respiratory_Magnitude_3_Peak', 'Respiratory_Magnitude_4_Peak', 'Respiratory_Phase_1_Peak', 'Respiratory_Phase_2_Peak', 'Respiratory_Phase_3_Peak', 'Respiratory_Phase_4_Peak', 'Respiratory_Frequency_1_Peak', 'Respiratory_Frequency_2_Peak', 'Respiratory_Frequency_3_Peak', 'Respiratory_Frequency_4_Peak', 'Transfer_Magnitude_0_Down', 'Transfer_Magnitude_1_Down', 'Transfer_Magnitude_2_Down', 'Transfer_Magnitude_3_Down', 'Transfer_Magnitude_4_Down', 'Transfer_Magnitude_5_Down', 'Transfer_Magnitude_6_Down', 'Transfer_Magnitude_7_Down', 'Transfer_Magnitude_8_Down', 'Transfer_Magnitude_9_Down', 'Transfer_Magnitude_10_Down', 'Transfer_Phase_0_Down', 'Transfer_Phase_1_Down', 'Transfer_Phase_2_Down', 'Transfer_Phase_3_Down', 'Transfer_Phase_4_Down', 'Transfer_Phase_5_Down', 'Transfer_Phase_6_Down', 'Transfer_Phase_7_Down', 'Transfer_Phase_8_Down', 'Transfer_Phase_9_Down', 'Transfer_Phase_10_Down', 'Transfer_Frequency_0_Down', 'Transfer_Frequency_1_Down', 'Transfer_Frequency_2_Down', 'Transfer_Frequency_3_Down', 'Transfer_Frequency_4_Down', 'Transfer_Frequency_5_Down', 'Transfer_Frequency_6_Down', 'Transfer_Frequency_7_Down', 'Transfer_Frequency_8_Down', 'Transfer_Frequency_9_Down', 'Transfer_Frequency_10_Down', 'Respiratory_Magnitude_1_Down', 'Respiratory_Magnitude_2_Down', 'Respiratory_Magnitude_3_Down', 'Respiratory_Magnitude_4_Down', 'Respiratory_Phase_1_Down', 'Respiratory_Phase_2_Down', 'Respiratory_Phase_3_Down', 'Respiratory_Phase_4_Down', 'Respiratory_Frequency_1_Down', 'Respiratory_Frequency_2_Down', 'Respiratory_Frequency_3_Down', 'Respiratory_Frequency_4_Down']\n"
     ]
    }
   ],
   "source": [
    "%run 'Common.ipynb'\n",
    "fname = os.path.join ('data','2015-05-02','ArterialStiffnessRatData-Summary-Split.tsv')\n",
    "colrange = range (2,1000)\n",
    "#cardio_traits = np.loadtxt(fname, delimiter = \"\\t\", skiprows = 1, usecols = colrange)\n",
    "cardio_data = np.loadtxt(fname, delimiter = \"\\t\", skiprows = 1)\n",
    "cardio_lines = [line.rstrip('\\n') for line in open(fname)]\n",
    "cardio_feature_names = cardio_lines[0].split('\\t')[2:]\n",
    "contig_traits = cardio_data[:,2:]\n",
    "contig_class_vals = cardio_data[:,1]\n",
    "class_traits, class_vals = get_class_mat_list (contig_traits, contig_class_vals)\n",
    "print (contig_traits)\n",
    "print\n",
    "print (class_traits)\n",
    "print\n",
    "print (contig_class_vals)\n",
    "print\n",
    "print (class_vals)\n",
    "print \n"
   ]
  },
  {
   "cell_type": "code",
   "execution_count": 80,
   "metadata": {
    "collapsed": false
   },
   "outputs": [
    {
     "name": "stdout",
     "output_type": "stream",
     "text": [
      ":                                     foo:\n"
     ]
    }
   ],
   "source": [
    "print (':{:>40s}:'.format ('foo'))"
   ]
  },
  {
   "cell_type": "code",
   "execution_count": 88,
   "metadata": {
    "collapsed": false,
    "scrolled": true
   },
   "outputs": [
    {
     "name": "stdout",
     "output_type": "stream",
     "text": [
      "Train class sizes : [4, 4]\n",
      "Features          : 60\n",
      "Iterations        : 25\n",
      "Iteration 0; Predictions: [ 2.  1.]; cumulative accuracies: [1.0, 1.0]\n",
      "Iteration 1; Predictions: [ 2.  1.]; cumulative accuracies: [1.0, 1.0]\n",
      "Iteration 2; Predictions: [ 2.  1.]; cumulative accuracies: [1.0, 1.0]\n",
      "Iteration 3; Predictions: [ 2.  1.]; cumulative accuracies: [1.0, 1.0]\n",
      "Iteration 4; Predictions: [ 2.  1.]; cumulative accuracies: [1.0, 1.0]\n",
      "Iteration 5; Predictions: [ 2.  1.]; cumulative accuracies: [1.0, 1.0]\n",
      "Iteration 6; Predictions: [ 2.  1.]; cumulative accuracies: [1.0, 1.0]\n",
      "Iteration 7; Predictions: [ 2.  1.]; cumulative accuracies: [1.0, 1.0]\n",
      "Iteration 8; Predictions: [ 2.  1.]; cumulative accuracies: [1.0, 1.0]\n",
      "Iteration 9; Predictions: [ 2.  1.]; cumulative accuracies: [1.0, 1.0]\n",
      "Iteration 10; Predictions: [ 2.  1.]; cumulative accuracies: [1.0, 1.0]\n",
      "Iteration 11; Predictions: [ 2.  1.]; cumulative accuracies: [1.0, 1.0]\n",
      "Iteration 12; Predictions: [ 2.  1.]; cumulative accuracies: [1.0, 1.0]\n",
      "Iteration 13; Predictions: [ 2.  1.]; cumulative accuracies: [1.0, 1.0]\n",
      "Iteration 14; Predictions: [ 2.  1.]; cumulative accuracies: [1.0, 1.0]\n",
      "Iteration 15; Predictions: [ 2.  1.]; cumulative accuracies: [1.0, 1.0]\n",
      "Iteration 16; Predictions: [ 2.  1.]; cumulative accuracies: [1.0, 1.0]\n",
      "Iteration 17; Predictions: [ 2.  1.]; cumulative accuracies: [1.0, 1.0]\n",
      "Iteration 18; Predictions: [ 2.  1.]; cumulative accuracies: [1.0, 1.0]\n",
      "Iteration 19; Predictions: [ 2.  1.]; cumulative accuracies: [1.0, 1.0]\n",
      "Iteration 20; Predictions: [ 2.  1.]; cumulative accuracies: [1.0, 1.0]\n",
      "Iteration 21; Predictions: [ 2.  1.]; cumulative accuracies: [1.0, 1.0]\n",
      "Iteration 22; Predictions: [ 2.  1.]; cumulative accuracies: [1.0, 1.0]\n",
      "Iteration 23; Predictions: [ 2.  1.]; cumulative accuracies: [1.0, 1.0]\n",
      "Iteration 24; Predictions: [ 2.  1.]; cumulative accuracies: [1.0, 1.0]\n",
      "                    Transfer_Magnitude_5_Base: 0.975956\n",
      "         ReflectedWaveTransitTime_One_Beta_Up: 0.968449\n",
      "         ReflectedWaveTransitTime_Two_Beta_Up: 0.968449\n",
      "                      Transfer_Magnitude_5_Up: 0.961928\n",
      "                    Transfer_Magnitude_7_Peak: 0.939337\n",
      "            ReflectedWaveTransitTime_Two_b_Up: 0.938099\n",
      "            ReflectedWaveTransitTime_One_b_Up: 0.938099\n",
      "                    Transfer_Magnitude_4_Base: 0.9346\n",
      "                      Transfer_Magnitude_4_Up: 0.927724\n",
      "                    Transfer_Magnitude_4_Down: 0.919337\n",
      "                        Transfer_Phase_3_Base: 0.918848\n",
      "                    Transfer_Magnitude_5_Down: 0.917324\n",
      "                          FormFactor_Two_a_Up: 0.915371\n",
      "                  FormFactor_Two_Intercept_Up: 0.913714\n",
      "                        Transfer_Phase_1_Base: 0.907432\n",
      "    ReflectedWaveTransitTime_One_Linear_R2_Up: 0.894001\n",
      "    ReflectedWaveTransitTime_Two_Linear_R2_Up: 0.894\n",
      "                        Transfer_Phase_6_Down: 0.88635\n",
      "                    Transfer_Magnitude_6_Base: 0.881077\n",
      "       ReflectedWaveTransitTime_One_Exp_R2_Up: 0.873576\n",
      "       ReflectedWaveTransitTime_Two_Exp_R2_Up: 0.873574\n",
      "              TimeToPeakSystole_One_Mean_Base: 0.8641\n",
      "            TimeToPeakSystole_One_Median_Base: 0.86196\n",
      "              TimeToPeakSystole_One_Mode_Base: 0.851722\n",
      "                        Transfer_Phase_7_Down: 0.849851\n",
      "       ReflectedWaveTransitTime_One_Beta_Down: 0.849711\n",
      "       ReflectedWaveTransitTime_Two_Beta_Down: 0.84971\n",
      "                      Transfer_Magnitude_6_Up: 0.847261\n",
      "                  PulsePressure_One_Mean_Base: 0.845446\n",
      "                PulsePressure_One_Median_Base: 0.842987\n",
      "                FormFactor_One_Linear_R2_Down: 0.825192\n",
      "                MeanPressure_One_Linear_R2_Up: 0.824479\n",
      "                  PulsePressure_Two_Mean_Base: 0.823551\n",
      "                   FormFactor_One_Exp_R2_Down: 0.821399\n",
      "                PulsePressure_Two_Median_Base: 0.821267\n",
      "                    Transfer_Magnitude_8_Peak: 0.816741\n",
      "                  IncidentPressure_One_a_Down: 0.814025\n",
      "                  IncidentPressure_Two_a_Down: 0.814001\n",
      "         EndSystolicPressure_One_Linear_R2_Up: 0.81379\n",
      "            ReflectedWaveTransitTime_One_a_Up: 0.811153\n"
     ]
    }
   ],
   "source": [
    "nfeatures = 60\n",
    "niter = np.product ( [m.shape[0] for m in class_traits] )\n",
    "n_classes = len (class_traits)\n",
    "n_correct = np.asarray( [0]*n_classes)\n",
    "(train,test) = round_robin_iteration (0,class_traits)\n",
    "max_features = train[0].shape[1]\n",
    "print ('Train class sizes : {}'.format([x.shape[0] for x in train]))\n",
    "print ('Features          : {}'.format(nfeatures))\n",
    "print ('Iterations        : {}'.format(niter))\n",
    "mean_feature_weights = np.zeros(max_features)\n",
    "for iter_idx in range ( niter ):\n",
    "    # Split\n",
    "    (train,test) = round_robin_iteration (iter_idx,class_traits)\n",
    "    (contig_train_mat, contig_train_vals) = list_to_contig_mat (train, class_vals)\n",
    "    (contig_test_mat, contig_test_vals) = list_to_contig_mat (test, class_vals)\n",
    "\n",
    "    # Normalize\n",
    "    (norm_train, norm_test) = normalize (contig_train_mat, contig_test_mat)\n",
    "    \n",
    "    # Reduce\n",
    "    feature_weights = Pearson(norm_train, contig_train_vals)\n",
    "#    feature_weights = Fisher(norm_train, contig_train_vals)\n",
    "    mean_feature_weights += feature_weights\n",
    "    (sorted_train, sorted_test) = weigh_sort (norm_train, norm_test, feature_weights)\n",
    "\n",
    "    # Classify\n",
    "#    preds,pred_vals = WND5(sorted_train[:,:nfeatures], sorted_test[:,:nfeatures], contig_train_vals)\n",
    "\n",
    "    preds = rand_forest_clf (sorted_train[:,:nfeatures], sorted_test[:,:nfeatures], contig_train_vals, iter_idx)\n",
    "    for pred_idx in range (len(preds)):\n",
    "        if (preds[pred_idx] == contig_test_vals[pred_idx]):\n",
    "            n_correct[pred_idx] += 1\n",
    "    cumul_acc = [(float(x) / (float(iter_idx)+1.0)) for x in n_correct]\n",
    "    print ('Iteration {}; Predictions: {}; cumulative accuracies: {}'.format(iter_idx, preds, cumul_acc))\n",
    "\n",
    "mean_feature_weights /= float(iter_idx)\n",
    "i = np.argsort(mean_feature_weights)\n",
    "i = np.array(list(reversed(i)))\n",
    "sorted_feature_names = np.array(cardio_feature_names)[i]\n",
    "sorted_feature_means = mean_feature_weights[i]\n",
    "for idx in range (40):\n",
    "    print ('{:>45s}: {:4g}'.format(sorted_feature_names[idx],sorted_feature_means[idx]))"
   ]
  },
  {
   "cell_type": "code",
   "execution_count": null,
   "metadata": {
    "collapsed": false
   },
   "outputs": [],
   "source": []
  }
 ],
 "metadata": {
  "kernelspec": {
   "display_name": "Python 2",
   "language": "python",
   "name": "python2"
  },
  "language_info": {
   "codemirror_mode": {
    "name": "ipython",
    "version": 2
   },
   "file_extension": ".py",
   "mimetype": "text/x-python",
   "name": "python",
   "nbconvert_exporter": "python",
   "pygments_lexer": "ipython2",
   "version": "2.7.9"
  }
 },
 "nbformat": 4,
 "nbformat_minor": 0
}
